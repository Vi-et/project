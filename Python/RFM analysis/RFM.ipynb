{
 "cells": [
  {
   "cell_type": "code",
   "execution_count": 2,
   "metadata": {},
   "outputs": [],
   "source": [
    "import numpy as np\n",
    "import pandas as pd\n",
    "import matplotlib.pyplot as plt\n",
    "import seaborn as sns\n",
    "\n",
    "pd.set_option('display.max_columns', 100)\n",
    "plt.style.use(\"seaborn-whitegrid\")"
   ]
  },
  {
   "cell_type": "code",
   "execution_count": 3,
   "metadata": {},
   "outputs": [],
   "source": [
    "data = pd.read_csv(\"data.csv\")"
   ]
  },
  {
   "cell_type": "code",
   "execution_count": 4,
   "metadata": {},
   "outputs": [
    {
     "data": {
      "text/html": [
       "<div>\n",
       "<style scoped>\n",
       "    .dataframe tbody tr th:only-of-type {\n",
       "        vertical-align: middle;\n",
       "    }\n",
       "\n",
       "    .dataframe tbody tr th {\n",
       "        vertical-align: top;\n",
       "    }\n",
       "\n",
       "    .dataframe thead th {\n",
       "        text-align: right;\n",
       "    }\n",
       "</style>\n",
       "<table border=\"1\" class=\"dataframe\">\n",
       "  <thead>\n",
       "    <tr style=\"text-align: right;\">\n",
       "      <th></th>\n",
       "      <th>Category</th>\n",
       "      <th>City</th>\n",
       "      <th>Country/Region</th>\n",
       "      <th>Customer Name</th>\n",
       "      <th>Manufacturer</th>\n",
       "      <th>Order Date</th>\n",
       "      <th>Order ID</th>\n",
       "      <th>Postal Code</th>\n",
       "      <th>Product Name</th>\n",
       "      <th>Region</th>\n",
       "      <th>Segment</th>\n",
       "      <th>Ship Date</th>\n",
       "      <th>Ship Mode</th>\n",
       "      <th>State/Province</th>\n",
       "      <th>Sub-Category</th>\n",
       "      <th>Discount</th>\n",
       "      <th>Profit</th>\n",
       "      <th>Quantity</th>\n",
       "      <th>Sales</th>\n",
       "    </tr>\n",
       "  </thead>\n",
       "  <tbody>\n",
       "    <tr>\n",
       "      <th>0</th>\n",
       "      <td>Office Supplies</td>\n",
       "      <td>Houston</td>\n",
       "      <td>United States</td>\n",
       "      <td>Darren Powers</td>\n",
       "      <td>Message Book</td>\n",
       "      <td>1/3/2019</td>\n",
       "      <td>US-2019-103800</td>\n",
       "      <td>77095</td>\n",
       "      <td>Message Book, Wirebound, Four 5 1/2\" X 4\" Form...</td>\n",
       "      <td>Central</td>\n",
       "      <td>Consumer</td>\n",
       "      <td>1/7/2019</td>\n",
       "      <td>Standard Class</td>\n",
       "      <td>Texas</td>\n",
       "      <td>Paper</td>\n",
       "      <td>0.2</td>\n",
       "      <td>5.5512</td>\n",
       "      <td>2</td>\n",
       "      <td>16.448</td>\n",
       "    </tr>\n",
       "    <tr>\n",
       "      <th>1</th>\n",
       "      <td>Office Supplies</td>\n",
       "      <td>Naperville</td>\n",
       "      <td>United States</td>\n",
       "      <td>Phillina Ober</td>\n",
       "      <td>GBC</td>\n",
       "      <td>1/4/2019</td>\n",
       "      <td>US-2019-112326</td>\n",
       "      <td>60540</td>\n",
       "      <td>GBC Standard Plastic Binding Systems Combs</td>\n",
       "      <td>Central</td>\n",
       "      <td>Home Office</td>\n",
       "      <td>1/8/2019</td>\n",
       "      <td>Standard Class</td>\n",
       "      <td>Illinois</td>\n",
       "      <td>Binders</td>\n",
       "      <td>0.8</td>\n",
       "      <td>-5.4870</td>\n",
       "      <td>2</td>\n",
       "      <td>3.540</td>\n",
       "    </tr>\n",
       "    <tr>\n",
       "      <th>2</th>\n",
       "      <td>Office Supplies</td>\n",
       "      <td>Naperville</td>\n",
       "      <td>United States</td>\n",
       "      <td>Phillina Ober</td>\n",
       "      <td>Avery</td>\n",
       "      <td>1/4/2019</td>\n",
       "      <td>US-2019-112326</td>\n",
       "      <td>60540</td>\n",
       "      <td>Avery 508</td>\n",
       "      <td>Central</td>\n",
       "      <td>Home Office</td>\n",
       "      <td>1/8/2019</td>\n",
       "      <td>Standard Class</td>\n",
       "      <td>Illinois</td>\n",
       "      <td>Labels</td>\n",
       "      <td>0.2</td>\n",
       "      <td>4.2717</td>\n",
       "      <td>3</td>\n",
       "      <td>11.784</td>\n",
       "    </tr>\n",
       "  </tbody>\n",
       "</table>\n",
       "</div>"
      ],
      "text/plain": [
       "          Category        City Country/Region  Customer Name  Manufacturer  \\\n",
       "0  Office Supplies     Houston  United States  Darren Powers  Message Book   \n",
       "1  Office Supplies  Naperville  United States  Phillina Ober           GBC   \n",
       "2  Office Supplies  Naperville  United States  Phillina Ober         Avery   \n",
       "\n",
       "  Order Date        Order ID Postal Code  \\\n",
       "0   1/3/2019  US-2019-103800       77095   \n",
       "1   1/4/2019  US-2019-112326       60540   \n",
       "2   1/4/2019  US-2019-112326       60540   \n",
       "\n",
       "                                        Product Name   Region      Segment  \\\n",
       "0  Message Book, Wirebound, Four 5 1/2\" X 4\" Form...  Central     Consumer   \n",
       "1         GBC Standard Plastic Binding Systems Combs  Central  Home Office   \n",
       "2                                          Avery 508  Central  Home Office   \n",
       "\n",
       "  Ship Date       Ship Mode State/Province Sub-Category  Discount  Profit  \\\n",
       "0  1/7/2019  Standard Class          Texas        Paper       0.2  5.5512   \n",
       "1  1/8/2019  Standard Class       Illinois      Binders       0.8 -5.4870   \n",
       "2  1/8/2019  Standard Class       Illinois       Labels       0.2  4.2717   \n",
       "\n",
       "   Quantity   Sales  \n",
       "0         2  16.448  \n",
       "1         2   3.540  \n",
       "2         3  11.784  "
      ]
     },
     "execution_count": 4,
     "metadata": {},
     "output_type": "execute_result"
    }
   ],
   "source": [
    "data.head(3)"
   ]
  },
  {
   "cell_type": "code",
   "execution_count": 5,
   "metadata": {},
   "outputs": [
    {
     "name": "stdout",
     "output_type": "stream",
     "text": [
      "<class 'pandas.core.frame.DataFrame'>\n",
      "RangeIndex: 10194 entries, 0 to 10193\n",
      "Data columns (total 19 columns):\n",
      " #   Column          Non-Null Count  Dtype  \n",
      "---  ------          --------------  -----  \n",
      " 0   Category        10194 non-null  object \n",
      " 1   City            10194 non-null  object \n",
      " 2   Country/Region  10194 non-null  object \n",
      " 3   Customer Name   10194 non-null  object \n",
      " 4   Manufacturer    10194 non-null  object \n",
      " 5   Order Date      10194 non-null  object \n",
      " 6   Order ID        10194 non-null  object \n",
      " 7   Postal Code     10194 non-null  object \n",
      " 8   Product Name    10194 non-null  object \n",
      " 9   Region          10194 non-null  object \n",
      " 10  Segment         10194 non-null  object \n",
      " 11  Ship Date       10194 non-null  object \n",
      " 12  Ship Mode       10194 non-null  object \n",
      " 13  State/Province  10194 non-null  object \n",
      " 14  Sub-Category    10194 non-null  object \n",
      " 15  Discount        10194 non-null  float64\n",
      " 16  Profit          10194 non-null  float64\n",
      " 17  Quantity        10194 non-null  int64  \n",
      " 18  Sales           10194 non-null  float64\n",
      "dtypes: float64(3), int64(1), object(15)\n",
      "memory usage: 1.5+ MB\n"
     ]
    }
   ],
   "source": [
    "data.info()"
   ]
  },
  {
   "cell_type": "code",
   "execution_count": 6,
   "metadata": {},
   "outputs": [
    {
     "data": {
      "text/plain": [
       "Category          0\n",
       "City              0\n",
       "Country/Region    0\n",
       "Customer Name     0\n",
       "Manufacturer      0\n",
       "Order Date        0\n",
       "Order ID          0\n",
       "Postal Code       0\n",
       "Product Name      0\n",
       "Region            0\n",
       "Segment           0\n",
       "Ship Date         0\n",
       "Ship Mode         0\n",
       "State/Province    0\n",
       "Sub-Category      0\n",
       "Discount          0\n",
       "Profit            0\n",
       "Quantity          0\n",
       "Sales             0\n",
       "dtype: int64"
      ]
     },
     "execution_count": 6,
     "metadata": {},
     "output_type": "execute_result"
    }
   ],
   "source": [
    "data.isnull().sum()"
   ]
  },
  {
   "cell_type": "code",
   "execution_count": 7,
   "metadata": {},
   "outputs": [],
   "source": [
    "# Convert to datetime\n",
    "\n",
    "data[\"Order Date\"] = pd.to_datetime(data[\"Order Date\"])\n",
    "\n",
    "data[\"Ship Date\"] = pd.to_datetime(data[\"Ship Date\"])"
   ]
  },
  {
   "cell_type": "code",
   "execution_count": 8,
   "metadata": {},
   "outputs": [
    {
     "data": {
      "text/plain": [
       "Category                  object\n",
       "City                      object\n",
       "Country/Region            object\n",
       "Customer Name             object\n",
       "Manufacturer              object\n",
       "Order Date        datetime64[ns]\n",
       "Order ID                  object\n",
       "Postal Code               object\n",
       "Product Name              object\n",
       "Region                    object\n",
       "Segment                   object\n",
       "Ship Date         datetime64[ns]\n",
       "Ship Mode                 object\n",
       "State/Province            object\n",
       "Sub-Category              object\n",
       "Discount                 float64\n",
       "Profit                   float64\n",
       "Quantity                   int64\n",
       "Sales                    float64\n",
       "dtype: object"
      ]
     },
     "execution_count": 8,
     "metadata": {},
     "output_type": "execute_result"
    }
   ],
   "source": [
    "data.dtypes"
   ]
  },
  {
   "cell_type": "markdown",
   "metadata": {},
   "source": [
    "- Data cleaned, ready to use"
   ]
  },
  {
   "cell_type": "markdown",
   "metadata": {},
   "source": [
    "# **RFM Analysis**"
   ]
  },
  {
   "cell_type": "markdown",
   "metadata": {},
   "source": [
    "Calculate Recency Score"
   ]
  },
  {
   "cell_type": "code",
   "execution_count": 9,
   "metadata": {},
   "outputs": [],
   "source": [
    "# set current date = Max(Order Date) + 1\n",
    "\n",
    "import datetime\n",
    "\n",
    "\n",
    "current_date = max(data[\"Order Date\"]) + datetime.timedelta(days = 1)"
   ]
  },
  {
   "cell_type": "code",
   "execution_count": 10,
   "metadata": {},
   "outputs": [
    {
     "data": {
      "text/plain": [
       "Timestamp('2022-12-31 00:00:00')"
      ]
     },
     "execution_count": 10,
     "metadata": {},
     "output_type": "execute_result"
    }
   ],
   "source": [
    "current_date"
   ]
  },
  {
   "cell_type": "markdown",
   "metadata": {},
   "source": [
    "# Data 2022"
   ]
  },
  {
   "cell_type": "code",
   "execution_count": 11,
   "metadata": {},
   "outputs": [],
   "source": [
    "data_2022 = data.loc[data['Order Date'] >= '2022-01-01', :].copy()"
   ]
  },
  {
   "cell_type": "code",
   "execution_count": 12,
   "metadata": {},
   "outputs": [],
   "source": [
    "# Find the last active day\n",
    "\n",
    "rfm_data_2022 = data_2022.groupby([\"Customer Name\"]).agg(\n",
    "                                                {'Order Date': lambda x: (current_date - x.max()).days,\n",
    "                                                'Order ID': 'count',\n",
    "                                                'Sales': 'sum'\n",
    "                                                }\n",
    "                                            )"
   ]
  },
  {
   "cell_type": "code",
   "execution_count": 13,
   "metadata": {},
   "outputs": [],
   "source": [
    "rfm_data_2022.columns = (\"recency\", \"frequency\", \"monetary\")"
   ]
  },
  {
   "cell_type": "code",
   "execution_count": 14,
   "metadata": {},
   "outputs": [],
   "source": [
    "rfm_data_2022['r_percentile_rank'] = rfm_data_2022.recency.rank(pct = True, ascending = False)\n",
    "rfm_data_2022['f_percentile_rank'] = rfm_data_2022.frequency.rank(pct = True, ascending = True)\n",
    "rfm_data_2022['m_percentile_rank'] = rfm_data_2022.monetary.rank(pct = True, ascending = True)"
   ]
  },
  {
   "cell_type": "code",
   "execution_count": 15,
   "metadata": {},
   "outputs": [],
   "source": [
    "from contextlib import nullcontext\n",
    "\n",
    "\n",
    "def scoring(x):\n",
    "    score = 0\n",
    "    \n",
    "    if x < 0.2:\n",
    "        score = 1\n",
    "    elif x >= 0.2 and x < 0.4:\n",
    "        score = 2\n",
    "    elif x >= 0.4 and x < 0.6:\n",
    "        score = 3\n",
    "    elif x >= 0.6 and x < 0.8:\n",
    "        score = 4\n",
    "    elif x >= 0.8 and x <= 1:\n",
    "        score = 5\n",
    "\n",
    "    return score"
   ]
  },
  {
   "cell_type": "code",
   "execution_count": 16,
   "metadata": {},
   "outputs": [],
   "source": [
    "rfm_data_2022['r_score'] = rfm_data_2022['r_percentile_rank'].apply(scoring)\n",
    "rfm_data_2022['f_score'] = rfm_data_2022['f_percentile_rank'].apply(scoring)\n",
    "rfm_data_2022['m_score'] = rfm_data_2022['m_percentile_rank'].apply(scoring)\n"
   ]
  },
  {
   "cell_type": "code",
   "execution_count": 17,
   "metadata": {},
   "outputs": [],
   "source": [
    "rfm_data_2022['rfm_score'] = rfm_data_2022['r_score'].astype(str)\\\n",
    "                             + rfm_data_2022['f_score'].astype(str)\\\n",
    "                                 + rfm_data_2022['m_score'].astype(str)"
   ]
  },
  {
   "cell_type": "markdown",
   "metadata": {},
   "source": [
    "<img src=\"rfm_segments_table.png\" width=\"1000px\">"
   ]
  },
  {
   "cell_type": "code",
   "execution_count": 18,
   "metadata": {},
   "outputs": [],
   "source": [
    "from asyncio.windows_events import NULL\n",
    "from msilib import AMD64\n",
    "\n",
    "\n",
    "def customer_rfm_classification(x):\n",
    "    customer = ''\n",
    "\n",
    "    if x[0] in ('4','5') and x[1] in ('4','5') and x[2] in ('4','5'):\n",
    "        customer = 'Champions'\n",
    "\n",
    "    elif x[0] in ('4','5') and x[1] in ('1','2','3') and x[2] in ('4','5'):\n",
    "        customer = 'Recent Wholesale'\n",
    "\n",
    "    elif x[0] in ('1','2','3') and x[1] in ('1','2','3') and x[2] in ('4','5'):\n",
    "        customer = 'Old Wholesale'\n",
    "\n",
    "    elif x[0] in ('4','3','5') and x[1] in ('4','3') and x[2] in ('4','5'):\n",
    "        customer = 'Loyal Customers'\n",
    "\n",
    "    elif x[0] in ('4','3','5') and x[1] in ('5','4','3') and x[2] in ('3','2','1'):\n",
    "        customer = 'Loyal Customers but Small Spenders'\n",
    "\n",
    "    elif x[0] in ('5','4','3') and x[1] in ('1','3','2') and x[2] in ('1','2','3'):\n",
    "        customer = 'Potential Loyalists'\n",
    "    \n",
    "    elif x[0] in ('4','5') and x[1] in ('1') and x[2] in ('1'):\n",
    "        customer = 'New Customers'\n",
    "    \n",
    "    elif x[0] in ('4','3') and x[1] in ('1') and x[2] in ('1'):\n",
    "        customer = 'Promising'\n",
    "    \n",
    "    elif x[0] in ('4','3') and x[1] in ('4','3') and x[2] in ('4','3'):\n",
    "        customer = 'Need Attention'\n",
    "    \n",
    "    elif x[0] in ('2','3') and x[1] in ('2','1') and x[2] in ('2','1'):\n",
    "        customer = 'About to Sleep'\n",
    "    \n",
    "    elif x[0] in ('3','2','1') and x[1] in ('4','3','2','5') and x[2] in ('2','3','4','5'):\n",
    "        customer = 'At risk'\n",
    "    \n",
    "    elif x[0] in ('1','2') and x[1] in ('4','5') and x[2] in ('4','5'):\n",
    "        customer = \"Can't Lose Them\"\n",
    "    \n",
    "    elif x[0] in ('2','3') and x[1] in ('1','2','3','4') and x[2] in ('1','2','3'):\n",
    "        customer = 'Hibernating'\n",
    "    \n",
    "    elif x[0] in ('1','2') and x[1] in ('1','2','3') and x[2] in ('1','2','3'):\n",
    "        customer = 'Lost'\n",
    "    \n",
    "    else:\n",
    "        customer = NULL\n",
    "\n",
    "    return customer"
   ]
  },
  {
   "cell_type": "code",
   "execution_count": 19,
   "metadata": {},
   "outputs": [],
   "source": [
    "rfm_data_2022['customer_segmentation'] = rfm_data_2022['rfm_score'].apply(customer_rfm_classification)"
   ]
  },
  {
   "cell_type": "code",
   "execution_count": 20,
   "metadata": {},
   "outputs": [
    {
     "data": {
      "text/plain": [
       "At risk                               0.220000\n",
       "Loyal Customers but Small Spenders    0.164286\n",
       "Potential Loyalists                   0.150000\n",
       "Champions                             0.137143\n",
       "Old Wholesale                         0.092857\n",
       "Lost                                  0.075714\n",
       "About to Sleep                        0.075714\n",
       "Recent Wholesale                      0.064286\n",
       "Loyal Customers                       0.015714\n",
       "Hibernating                           0.004286\n",
       "Name: customer_segmentation, dtype: float64"
      ]
     },
     "execution_count": 20,
     "metadata": {},
     "output_type": "execute_result"
    }
   ],
   "source": [
    "rfm_data_2022['customer_segmentation'].value_counts(normalize= True)"
   ]
  },
  {
   "cell_type": "markdown",
   "metadata": {},
   "source": [
    "# DATA 2021"
   ]
  },
  {
   "cell_type": "code",
   "execution_count": 21,
   "metadata": {},
   "outputs": [],
   "source": [
    "data_2021 = data.loc[data['Order Date'].dt.strftime('%Y') == '2021'].copy()"
   ]
  },
  {
   "cell_type": "code",
   "execution_count": 22,
   "metadata": {},
   "outputs": [],
   "source": [
    "# Find the last active day\n",
    "\n",
    "rfm_data_2021 = data_2021.groupby([\"Customer Name\"]).agg(\n",
    "                                                {'Order Date': lambda x: (current_date - x.max()).days,\n",
    "                                                'Order ID': 'count',\n",
    "                                                'Sales': 'sum'\n",
    "                                                }\n",
    "                                            )"
   ]
  },
  {
   "cell_type": "code",
   "execution_count": 23,
   "metadata": {},
   "outputs": [],
   "source": [
    "rfm_data_2021.columns = (\"recency\", \"frequency\", \"monetary\")"
   ]
  },
  {
   "cell_type": "code",
   "execution_count": 24,
   "metadata": {},
   "outputs": [],
   "source": [
    "rfm_data_2021['r_percentile_rank'] = rfm_data_2021.recency.rank(pct = True, ascending = False)\n",
    "rfm_data_2021['f_percentile_rank'] = rfm_data_2021.frequency.rank(pct = True, ascending = True)\n",
    "rfm_data_2021['m_percentile_rank'] = rfm_data_2021.monetary.rank(pct = True, ascending = True)"
   ]
  },
  {
   "cell_type": "code",
   "execution_count": 25,
   "metadata": {},
   "outputs": [],
   "source": [
    "rfm_data_2021['r_score'] = rfm_data_2021['r_percentile_rank'].apply(scoring)\n",
    "rfm_data_2021['f_score'] = rfm_data_2021['f_percentile_rank'].apply(scoring)\n",
    "rfm_data_2021['m_score'] = rfm_data_2021['m_percentile_rank'].apply(scoring)"
   ]
  },
  {
   "cell_type": "code",
   "execution_count": 26,
   "metadata": {},
   "outputs": [],
   "source": [
    "rfm_data_2021['rfm_score'] = rfm_data_2021['r_score'].astype(str)\\\n",
    "                             + rfm_data_2021['f_score'].astype(str)\\\n",
    "                                 + rfm_data_2021['m_score'].astype(str)"
   ]
  },
  {
   "cell_type": "code",
   "execution_count": 27,
   "metadata": {},
   "outputs": [],
   "source": [
    "rfm_data_2021['customer_segmentation'] = rfm_data_2021['rfm_score'].apply(customer_rfm_classification)"
   ]
  },
  {
   "cell_type": "code",
   "execution_count": 28,
   "metadata": {},
   "outputs": [
    {
     "data": {
      "text/plain": [
       "At risk                               132\n",
       "Champions                             109\n",
       "Loyal Customers but Small Spenders    105\n",
       "Potential Loyalists                    99\n",
       "Lost                                   62\n",
       "About to Sleep                         46\n",
       "Old Wholesale                          46\n",
       "Recent Wholesale                       30\n",
       "Loyal Customers                        19\n",
       "Hibernating                             2\n",
       "Name: customer_segmentation, dtype: int64"
      ]
     },
     "execution_count": 28,
     "metadata": {},
     "output_type": "execute_result"
    }
   ],
   "source": [
    "rfm_data_2021['customer_segmentation'].value_counts()"
   ]
  },
  {
   "cell_type": "code",
   "execution_count": 29,
   "metadata": {},
   "outputs": [
    {
     "data": {
      "text/plain": [
       "At risk                               154\n",
       "Loyal Customers but Small Spenders    115\n",
       "Potential Loyalists                   105\n",
       "Champions                              96\n",
       "Old Wholesale                          65\n",
       "Lost                                   53\n",
       "About to Sleep                         53\n",
       "Recent Wholesale                       45\n",
       "Loyal Customers                        11\n",
       "Hibernating                             3\n",
       "Name: customer_segmentation, dtype: int64"
      ]
     },
     "execution_count": 29,
     "metadata": {},
     "output_type": "execute_result"
    }
   ],
   "source": [
    "rfm_data_2022['customer_segmentation'].value_counts()"
   ]
  },
  {
   "cell_type": "code",
   "execution_count": 30,
   "metadata": {},
   "outputs": [
    {
     "data": {
      "text/plain": [
       "At risk                               22.000000\n",
       "Loyal Customers but Small Spenders    16.428571\n",
       "Potential Loyalists                   15.000000\n",
       "Champions                             13.714286\n",
       "Old Wholesale                          9.285714\n",
       "Lost                                   7.571429\n",
       "About to Sleep                         7.571429\n",
       "Recent Wholesale                       6.428571\n",
       "Loyal Customers                        1.571429\n",
       "Hibernating                            0.428571\n",
       "Name: customer_segmentation, dtype: float64"
      ]
     },
     "execution_count": 30,
     "metadata": {},
     "output_type": "execute_result"
    }
   ],
   "source": [
    "rfm_data_2022['customer_segmentation'].value_counts(normalize= True)*100"
   ]
  },
  {
   "cell_type": "code",
   "execution_count": 31,
   "metadata": {},
   "outputs": [
    {
     "data": {
      "text/plain": [
       "At risk                               20.307692\n",
       "Champions                             16.769231\n",
       "Loyal Customers but Small Spenders    16.153846\n",
       "Potential Loyalists                   15.230769\n",
       "Lost                                   9.538462\n",
       "About to Sleep                         7.076923\n",
       "Old Wholesale                          7.076923\n",
       "Recent Wholesale                       4.615385\n",
       "Loyal Customers                        2.923077\n",
       "Hibernating                            0.307692\n",
       "Name: customer_segmentation, dtype: float64"
      ]
     },
     "execution_count": 31,
     "metadata": {},
     "output_type": "execute_result"
    }
   ],
   "source": [
    "rfm_data_2021['customer_segmentation'].value_counts(normalize= True)*100"
   ]
  },
  {
   "cell_type": "markdown",
   "metadata": {},
   "source": [
    "- Champions giảm kha khá\n",
    "- Old Wholsale tăng\n",
    "- Lost tăng\n",
    "- Recent Wholesale tăng"
   ]
  }
 ],
 "metadata": {
  "kernelspec": {
   "display_name": "Python 3.9.12 ('base')",
   "language": "python",
   "name": "python3"
  },
  "language_info": {
   "codemirror_mode": {
    "name": "ipython",
    "version": 3
   },
   "file_extension": ".py",
   "mimetype": "text/x-python",
   "name": "python",
   "nbconvert_exporter": "python",
   "pygments_lexer": "ipython3",
   "version": "3.9.12"
  },
  "orig_nbformat": 4,
  "vscode": {
   "interpreter": {
    "hash": "2f155fbeb9494e5ce992090b8427abe3542dae7719d8ea0d05cb0b78608edd18"
   }
  }
 },
 "nbformat": 4,
 "nbformat_minor": 2
}
